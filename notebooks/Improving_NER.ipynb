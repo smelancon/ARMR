{
 "cells": [
  {
   "cell_type": "code",
   "execution_count": 1,
   "metadata": {
    "ExecuteTime": {
     "end_time": "2019-05-02T21:41:19.473323Z",
     "start_time": "2019-05-02T21:41:19.035976Z"
    }
   },
   "outputs": [],
   "source": [
    "import random\n",
    "import scispacy\n",
    "import spacy\n",
    "from spacy.util import minibatch, compounding\n",
    "from spacy.language import Language\n",
    "import os"
   ]
  },
  {
   "cell_type": "code",
   "execution_count": 2,
   "metadata": {
    "ExecuteTime": {
     "end_time": "2019-05-02T21:41:19.957105Z",
     "start_time": "2019-05-02T21:41:19.954017Z"
    }
   },
   "outputs": [],
   "source": [
    "par_dir = os.path.abspath(os.path.join(os.getcwd(), os.pardir))"
   ]
  },
  {
   "cell_type": "code",
   "execution_count": 3,
   "metadata": {
    "ExecuteTime": {
     "end_time": "2019-05-02T21:41:21.099291Z",
     "start_time": "2019-05-02T21:41:21.091574Z"
    }
   },
   "outputs": [
    {
     "data": {
      "text/plain": [
       "'/Users/tylerursuy/Desktop/MSDS/603/product-analytics-group-project-armor'"
      ]
     },
     "execution_count": 3,
     "metadata": {},
     "output_type": "execute_result"
    }
   ],
   "source": [
    "par_dir"
   ]
  },
  {
   "cell_type": "code",
   "execution_count": 5,
   "metadata": {
    "ExecuteTime": {
     "end_time": "2019-05-02T21:41:59.396917Z",
     "start_time": "2019-05-02T21:41:55.934394Z"
    }
   },
   "outputs": [],
   "source": [
    "bc5cdr_md = spacy.load(\"{}/models/en_ner_bc5cdr_md-0.1.0\".format(par_dir))"
   ]
  },
  {
   "cell_type": "markdown",
   "metadata": {},
   "source": [
    "### Abnormal Echocardiogram Test Case"
   ]
  },
  {
   "cell_type": "code",
   "execution_count": 6,
   "metadata": {
    "ExecuteTime": {
     "end_time": "2019-05-02T21:42:00.161941Z",
     "start_time": "2019-05-02T21:42:00.159273Z"
    }
   },
   "outputs": [],
   "source": [
    "disease_example = \"Abnormal echocardiogram findings and followup. \\\n",
    "Shortness of breath, congestive heart failure, and valvular insufficiency.\""
   ]
  },
  {
   "cell_type": "code",
   "execution_count": 7,
   "metadata": {
    "ExecuteTime": {
     "end_time": "2019-05-02T21:42:00.345695Z",
     "start_time": "2019-05-02T21:42:00.343144Z"
    }
   },
   "outputs": [],
   "source": [
    "drug_example = \"Aspirin 325 mg once a day. Metoprolol 50 mg once a day, \\\n",
    "but we have had to hold it because of relative bradycardia which he apparently has a history of. \\\n",
    "Nexium 40 mg once a day. Zocor 40 mg once a day, and there is a fasting \\\n",
    "lipid profile pending at the time of this dictation. I see that \\\n",
    "his LDL was 136 on May 3, 2002. Plavix 600 mg p.o. x1 which I am giving him tonight\"\n"
   ]
  },
  {
   "cell_type": "markdown",
   "metadata": {},
   "source": [
    "#### bc5cdr_md NER"
   ]
  },
  {
   "cell_type": "code",
   "execution_count": 8,
   "metadata": {
    "ExecuteTime": {
     "end_time": "2019-05-02T21:42:00.906822Z",
     "start_time": "2019-05-02T21:42:00.887042Z"
    }
   },
   "outputs": [
    {
     "name": "stdout",
     "output_type": "stream",
     "text": [
      "Entity: Shortness of breath, Type: DISEASE\n",
      "Entity: congestive heart failure, Type: DISEASE\n",
      "Entity: valvular insufficiency, Type: DISEASE\n"
     ]
    }
   ],
   "source": [
    "for e in bc5cdr_md(disease_example).ents:\n",
    "    print(f\"Entity: {e}, Type: {e.label_}\")"
   ]
  },
  {
   "cell_type": "code",
   "execution_count": 9,
   "metadata": {
    "ExecuteTime": {
     "end_time": "2019-05-02T21:42:02.575513Z",
     "start_time": "2019-05-02T21:42:02.559340Z"
    }
   },
   "outputs": [
    {
     "name": "stdout",
     "output_type": "stream",
     "text": [
      "Entity: Aspirin, Type: CHEMICAL\n",
      "Entity: Metoprolol, Type: CHEMICAL\n",
      "Entity: bradycardia, Type: DISEASE\n",
      "Entity: p.o, Type: CHEMICAL\n"
     ]
    }
   ],
   "source": [
    "for e in bc5cdr_md(drug_example).ents:\n",
    "    print(f\"Entity: {e}, Type: {e.label_}\")"
   ]
  },
  {
   "cell_type": "markdown",
   "metadata": {},
   "source": [
    "### Fixing Errors"
   ]
  },
  {
   "cell_type": "code",
   "execution_count": 10,
   "metadata": {
    "ExecuteTime": {
     "end_time": "2019-05-02T21:42:04.298919Z",
     "start_time": "2019-05-02T21:42:04.294972Z"
    }
   },
   "outputs": [],
   "source": [
    "TRAIN_DATA = [\n",
    "    (\"Nexium 40 mg once a day.\", {\"entities\": [(0, 6, \"CHEMICAL\")]}),\n",
    "    (\"Zocor 40 mg once a day, and there is a fasting lipid profile pending at the time of this dictation. I see that his LDL was 136 on May 3, 2002.\", \n",
    "     {\"entities\": [(0, 5, \"CHEMICAL\")]}),\n",
    "    (\"Plavix 600 mg p.o. x1 which I am giving him tonight.\", {\"entities\": [(0, 6, \"CHEMICAL\")]}),\n",
    "    (\"Abnormal echocardiogram findings and followup,\", {\"entities\": [(0, 23, \"DISEASE\")]})\n",
    "]"
   ]
  },
  {
   "cell_type": "code",
   "execution_count": 13,
   "metadata": {
    "ExecuteTime": {
     "end_time": "2019-05-02T21:42:46.998973Z",
     "start_time": "2019-05-02T21:42:46.989834Z"
    }
   },
   "outputs": [],
   "source": [
    "def train(model=None, output_dir=None, n_iter=100):\n",
    "    \"\"\"Load the model, set up the pipeline and train the entity recognizer.\"\"\"\n",
    "    if model is not None:\n",
    "        nlp = spacy.load(model)  # load existing spaCy model\n",
    "        print(\"Loaded model '%s'\" % model)\n",
    "    else:\n",
    "        nlp = spacy.blank(\"en\")  # create blank Language class\n",
    "        print(\"Created blank 'en' model\")\n",
    "\n",
    "    # create the built-in pipeline components and add them to the pipeline\n",
    "    # nlp.create_pipe works for built-ins that are registered with spaCy\n",
    "    if \"ner\" not in nlp.pipe_names:\n",
    "        ner = nlp.create_pipe(\"ner\")\n",
    "        nlp.add_pipe(ner, last=True)\n",
    "    # otherwise, get it so we can add labels\n",
    "    else:\n",
    "        ner = nlp.get_pipe(\"ner\")\n",
    "\n",
    "    # add labels\n",
    "    for _, annotations in TRAIN_DATA:\n",
    "        for ent in annotations.get(\"entities\"):\n",
    "            ner.add_label(ent[2])\n",
    "\n",
    "    # get names of other pipes to disable them during training\n",
    "    other_pipes = [pipe for pipe in nlp.pipe_names if pipe != \"ner\"]\n",
    "    with nlp.disable_pipes(*other_pipes):  # only train NER\n",
    "        # reset and initialize the weights randomly – but only if we're\n",
    "        # training a new model\n",
    "        if model is None:\n",
    "            nlp.begin_training()\n",
    "        for itn in range(n_iter):\n",
    "            random.shuffle(TRAIN_DATA)\n",
    "            losses = {}\n",
    "            # batch up the examples using spaCy's minibatch\n",
    "            batches = minibatch(TRAIN_DATA, size=compounding(4.0, 32.0, 1.001))\n",
    "            for batch in batches:\n",
    "                texts, annotations = zip(*batch)\n",
    "                nlp.update(\n",
    "                    texts,  # batch of texts\n",
    "                    annotations,  # batch of annotations\n",
    "                    drop=0.5,  # dropout - make it harder to memorise data\n",
    "                    losses=losses,\n",
    "                )\n",
    "            print(\"Losses\", losses)\n",
    "\n",
    "    # test the trained model\n",
    "    for text, _ in TRAIN_DATA:\n",
    "        doc = nlp(text)\n",
    "        print(\"Entities\", [(ent.text, ent.label_) for ent in doc.ents])\n",
    "    return nlp"
   ]
  },
  {
   "cell_type": "code",
   "execution_count": 14,
   "metadata": {
    "ExecuteTime": {
     "end_time": "2019-05-02T21:42:55.575359Z",
     "start_time": "2019-05-02T21:42:51.901451Z"
    }
   },
   "outputs": [
    {
     "name": "stdout",
     "output_type": "stream",
     "text": [
      "Loaded model '/Users/tylerursuy/Desktop/MSDS/603/product-analytics-group-project-armor/models/en_ner_bc5cdr_md-0.1.0'\n",
      "Losses {'ner': 0.5698283570474955}\n",
      "Losses {'ner': 0.7930012403959381}\n",
      "Losses {'ner': 0.39752292080234397}\n",
      "Losses {'ner': 0.37710215020917204}\n",
      "Losses {'ner': 0.1763788676717013}\n",
      "Entities []\n",
      "Entities [('Zocor', 'CHEMICAL')]\n",
      "Entities [('Plavix', 'CHEMICAL')]\n",
      "Entities [('Nexium', 'CHEMICAL')]\n"
     ]
    }
   ],
   "source": [
    "model_dir = \"{}/models/en_ner_bc5cdr_md-0.1.0\".format(par_dir)\n",
    "bc5cdr_md = train(model_dir, n_iter=5)"
   ]
  },
  {
   "cell_type": "code",
   "execution_count": 25,
   "metadata": {},
   "outputs": [
    {
     "name": "stdout",
     "output_type": "stream",
     "text": [
      "Entity: Aspirin, Type: CHEMICAL\n",
      "Entity: Metoprolol, Type: CHEMICAL\n",
      "Entity: bradycardia, Type: DISEASE\n",
      "Entity: Nexium, Type: CHEMICAL\n",
      "Entity: Zocor, Type: CHEMICAL\n"
     ]
    }
   ],
   "source": [
    "for e in bc5cdr_md(drug_example).ents:\n",
    "    print(f\"Entity: {e}, Type: {e.label_}\")"
   ]
  },
  {
   "cell_type": "code",
   "execution_count": 26,
   "metadata": {},
   "outputs": [
    {
     "name": "stdout",
     "output_type": "stream",
     "text": [
      "Entity: Abnormal echocardiogram, Type: DISEASE\n",
      "Entity: Shortness of breath, Type: DISEASE\n",
      "Entity: congestive heart failure, Type: DISEASE\n",
      "Entity: valvular insufficiency, Type: DISEASE\n"
     ]
    }
   ],
   "source": [
    "for e in bc5cdr_md(disease_example).ents:\n",
    "    print(f\"Entity: {e}, Type: {e.label_}\")"
   ]
  }
 ],
 "metadata": {
  "kernelspec": {
   "display_name": "Python 3",
   "language": "python",
   "name": "python3"
  },
  "language_info": {
   "codemirror_mode": {
    "name": "ipython",
    "version": 3
   },
   "file_extension": ".py",
   "mimetype": "text/x-python",
   "name": "python",
   "nbconvert_exporter": "python",
   "pygments_lexer": "ipython3",
   "version": "3.7.1"
  },
  "varInspector": {
   "cols": {
    "lenName": 16,
    "lenType": 16,
    "lenVar": 40
   },
   "kernels_config": {
    "python": {
     "delete_cmd_postfix": "",
     "delete_cmd_prefix": "del ",
     "library": "var_list.py",
     "varRefreshCmd": "print(var_dic_list())"
    },
    "r": {
     "delete_cmd_postfix": ") ",
     "delete_cmd_prefix": "rm(",
     "library": "var_list.r",
     "varRefreshCmd": "cat(var_dic_list()) "
    }
   },
   "types_to_exclude": [
    "module",
    "function",
    "builtin_function_or_method",
    "instance",
    "_Feature"
   ],
   "window_display": false
  }
 },
 "nbformat": 4,
 "nbformat_minor": 2
}
