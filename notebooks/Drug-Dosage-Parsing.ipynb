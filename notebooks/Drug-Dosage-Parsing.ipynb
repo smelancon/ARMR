{
 "cells": [
  {
   "cell_type": "code",
   "execution_count": 14,
   "metadata": {},
   "outputs": [],
   "source": [
    "import scispacy\n",
    "import spacy\n",
    "from spacy.matcher import Matcher, PhraseMatcher\n",
    "import os\n",
    "from spacy.tokens import Span"
   ]
  },
  {
   "cell_type": "code",
   "execution_count": 3,
   "metadata": {},
   "outputs": [],
   "source": [
    "par_dir = os.path.abspath(os.path.join(os.getcwd(), os.pardir))\n",
    "bc5cdr_md = spacy.load(\"{}/models/en_ner_bc5cdr_md-0.1.0\".format(par_dir))"
   ]
  },
  {
   "cell_type": "code",
   "execution_count": 4,
   "metadata": {},
   "outputs": [],
   "source": [
    "import sys"
   ]
  },
  {
   "cell_type": "code",
   "execution_count": 5,
   "metadata": {},
   "outputs": [],
   "source": [
    "sys.path.append(\"../code/app\")"
   ]
  },
  {
   "cell_type": "markdown",
   "metadata": {},
   "source": [
    "## Simple Matching"
   ]
  },
  {
   "cell_type": "code",
   "execution_count": 38,
   "metadata": {},
   "outputs": [],
   "source": [
    "matcher = Matcher(bc5cdr_md.vocab)"
   ]
  },
  {
   "cell_type": "code",
   "execution_count": 39,
   "metadata": {},
   "outputs": [],
   "source": [
    "pattern = [{\"ENT_TYPE\": \"CHEMICAL\"}]"
   ]
  },
  {
   "cell_type": "code",
   "execution_count": 40,
   "metadata": {},
   "outputs": [],
   "source": [
    "matched = []\n",
    "def add_matched(matcher, doc, i, matches):\n",
    "    # Get the current match and create tuple of entity label, start and end.\n",
    "    # Append entity to the doc's entity. (Don't overwrite doc.ents!)\n",
    "    match_id, start, end = matches[i]\n",
    "    matched.append(doc[start:end].text)"
   ]
  },
  {
   "cell_type": "code",
   "execution_count": 41,
   "metadata": {},
   "outputs": [],
   "source": [
    "matcher.add(\"Dosage\", add_matched, pattern)"
   ]
  },
  {
   "cell_type": "code",
   "execution_count": 42,
   "metadata": {},
   "outputs": [],
   "source": [
    "doc = bc5cdr_md(\"Simvastatin 80 mg nightly. Patient took eighty mg of Simvastatin daily\")"
   ]
  },
  {
   "cell_type": "code",
   "execution_count": 43,
   "metadata": {},
   "outputs": [
    {
     "name": "stdout",
     "output_type": "stream",
     "text": [
      "Dosage 0 1 Simvastatin\n",
      "Dosage 10 11 Simvastatin\n"
     ]
    }
   ],
   "source": [
    "matches = matcher(doc)\n",
    "for match_id, start, end in matches:\n",
    "    string_id = bc5cdr_md.vocab.strings[match_id]  # Get string representation\n",
    "    span = doc[start:end]  # The matched span\n",
    "    print(string_id, start, end, span.text)"
   ]
  },
  {
   "cell_type": "code",
   "execution_count": 44,
   "metadata": {},
   "outputs": [
    {
     "data": {
      "text/plain": [
       "['Simvastatin', 'Simvastatin']"
      ]
     },
     "execution_count": 44,
     "metadata": {},
     "output_type": "execute_result"
    }
   ],
   "source": [
    "matched"
   ]
  },
  {
   "cell_type": "markdown",
   "metadata": {},
   "source": [
    "## More Complex Rules-Based Matching"
   ]
  },
  {
   "cell_type": "code",
   "execution_count": 98,
   "metadata": {},
   "outputs": [],
   "source": [
    "matcher = Matcher(bc5cdr_md.vocab)"
   ]
  },
  {
   "cell_type": "code",
   "execution_count": 99,
   "metadata": {},
   "outputs": [],
   "source": [
    "has_method_pattern = [{\"ENT_TYPE\": \"CHEMICAL\"}, {\"LIKE_NUM\": True}, {\"LOWER\": \"mg\"}, {}]\n",
    "matcher.add(\"HasMethod\", None, has_method_pattern)\n",
    "\n",
    "no_method_pattern = [{\"ENT_TYPE\": \"CHEMICAL\"}, {\"LIKE_NUM\": True}, {\"LOWER\": \"mg\"}]\n",
    "matcher.add(\"NoMethod\", None, no_method_pattern)\n",
    "\n",
    "just_drug_pattern = [{\"ENT_TYPE\": \"CHEMICAL\"}]\n",
    "matcher.add(\"JustDrug\", None, just_drug_pattern)"
   ]
  },
  {
   "cell_type": "code",
   "execution_count": 100,
   "metadata": {},
   "outputs": [],
   "source": [
    "doc = bc5cdr_md(\"Simvastatin 80 mg nightly. Hydralazine 80.5 mg. Metformin 100 mg nightly\")"
   ]
  },
  {
   "cell_type": "code",
   "execution_count": 101,
   "metadata": {},
   "outputs": [],
   "source": [
    "def parse_medication(span):\n",
    "    if len(span) == 4:\n",
    "        return {'name': span[0].text, 'amount': span[1].text,\n",
    "                'unit': span[2].text, 'method': span[3].text}\n",
    "    elif len(span) == 3:\n",
    "        return {'name': span[0].text, 'amount': span[1].text,\n",
    "                'unit': span[2].text, 'method': None}\n",
    "    else:\n",
    "        return {'name': span[0].text, 'amount': None,\n",
    "                'unit': None, 'method': None}"
   ]
  },
  {
   "cell_type": "code",
   "execution_count": 102,
   "metadata": {},
   "outputs": [],
   "source": [
    "last_start = None\n",
    "last_end = None\n",
    "matches = matcher(doc)\n",
    "medications = []\n",
    "for match_id, start, end in matches:\n",
    "    string_id = bc5cdr_md.vocab.strings[match_id]\n",
    "    span = doc[start:end]\n",
    "    if start != last_start and last_start is not None:\n",
    "        medication = parse_medication(doc[last_start:last_end])\n",
    "        medications.append(medication)\n",
    "    last_start = start\n",
    "    last_end = end\n",
    "medications.append(parse_medication(doc[start:end]))"
   ]
  },
  {
   "cell_type": "code",
   "execution_count": 103,
   "metadata": {},
   "outputs": [
    {
     "data": {
      "text/plain": [
       "[{'name': 'Simvastatin', 'amount': '80', 'unit': 'mg', 'method': 'nightly'},\n",
       " {'name': 'Hydralazine', 'amount': '80.5', 'unit': 'mg', 'method': '.'},\n",
       " {'name': 'Metformin', 'amount': '100', 'unit': 'mg', 'method': 'nightly'}]"
      ]
     },
     "execution_count": 103,
     "metadata": {},
     "output_type": "execute_result"
    }
   ],
   "source": [
    "medications"
   ]
  },
  {
   "cell_type": "code",
   "execution_count": null,
   "metadata": {},
   "outputs": [],
   "source": []
  }
 ],
 "metadata": {
  "kernelspec": {
   "display_name": "Python 3",
   "language": "python",
   "name": "python3"
  },
  "language_info": {
   "codemirror_mode": {
    "name": "ipython",
    "version": 3
   },
   "file_extension": ".py",
   "mimetype": "text/x-python",
   "name": "python",
   "nbconvert_exporter": "python",
   "pygments_lexer": "ipython3",
   "version": "3.7.1"
  }
 },
 "nbformat": 4,
 "nbformat_minor": 2
}
